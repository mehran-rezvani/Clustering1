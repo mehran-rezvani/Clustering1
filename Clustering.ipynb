{
 "cells": [
  {
   "cell_type": "code",
   "execution_count": 3,
   "id": "840739ea",
   "metadata": {
    "id": "840739ea"
   },
   "outputs": [],
   "source": [
    "import matplotlib.pyplot as plt \n",
    "import pandas as pd\n",
    "\n"
   ]
  },
  {
   "cell_type": "code",
   "execution_count": 4,
   "id": "d5495930",
   "metadata": {
    "colab": {
     "base_uri": "https://localhost:8080/"
    },
    "id": "d5495930",
    "outputId": "425b35bb-67d0-4732-a3b5-fd0d78454b77"
   },
   "outputs": [
    {
     "name": "stdout",
     "output_type": "stream",
     "text": [
      "     x   y\n",
      "0   25  79\n",
      "1   34  51\n",
      "2   22  53\n",
      "3   27  78\n",
      "4   33  59\n",
      "5   33  74\n",
      "6   31  73\n",
      "7   22  57\n",
      "8   35  69\n",
      "9   34  75\n",
      "10  67  51\n",
      "11  54  32\n",
      "12  57  40\n",
      "13  43  47\n",
      "14  50  53\n",
      "15  57  36\n",
      "16  59  35\n",
      "17  52  58\n",
      "18  65  59\n",
      "19  47  50\n",
      "20  49  25\n",
      "21  48  20\n",
      "22  35  14\n",
      "23  33  12\n",
      "24  44  20\n",
      "25  45   5\n",
      "26  38  29\n",
      "27  43  27\n",
      "28  51   8\n",
      "29  46   7\n"
     ]
    }
   ],
   "source": [
    "Data = {'x':[25,34,22,27,33,33,31,22,35,34,67,54,57,43,50,57,59,52,65,47,49,48,35,33,44,45,38,43,51,46],\n",
    "        'y':[79,51,53,78,59,74,73,57,69,75,51,32,40,47,53,36,35,58,59,50,25,20,14,12,20,5,29,27,8,7]\n",
    "       }\n",
    "df = pd.DataFrame(Data,columns=['x','y'])\n",
    "print (df)\n"
   ]
  },
  {
   "cell_type": "code",
   "execution_count": 5,
   "id": "7ccf6a55",
   "metadata": {
    "colab": {
     "base_uri": "https://localhost:8080/",
     "height": 283
    },
    "id": "7ccf6a55",
    "outputId": "173c7bca-7ac2-42e0-f2fb-dd2ec0b222fe"
   },
   "outputs": [
    {
     "data": {
      "text/plain": [
       "<matplotlib.collections.PathCollection at 0x196f968b970>"
      ]
     },
     "execution_count": 5,
     "metadata": {},
     "output_type": "execute_result"
    },
    {
     "data": {
      "image/png": "[encoded data removed]",
      "text/plain": [
       "<Figure size 432x288 with 1 Axes>"
      ]
     },
     "metadata": {
      "needs_background": "light"
     },
     "output_type": "display_data"
    }
   ],
   "source": [
    "plt.scatter(df['x'],df['y'])"
   ]
  },
  {
   "cell_type": "code",
   "execution_count": 6,
   "id": "524a055d",
   "metadata": {
    "id": "524a055d"
   },
   "outputs": [],
   "source": [
    "kmeans_set = {\"init\":\"random\",\"n_init\":10,\"max_iter\":300,\"random_state\":42}"
   ]
  },
  {
   "cell_type": "code",
   "execution_count": 7,
   "id": "663e4184",
   "metadata": {
    "id": "663e4184"
   },
   "outputs": [],
   "source": [
    "from sklearn.preprocessing import StandardScaler\n"
   ]
  },
  {
   "cell_type": "code",
   "execution_count": 8,
   "id": "4d29f86b",
   "metadata": {
    "id": "4d29f86b"
   },
   "outputs": [],
   "source": [
    "scaler = StandardScaler()\n",
    "scaled_features = scaler.fit_transform(df)"
   ]
  },
  {
   "cell_type": "code",
   "execution_count": 9,
   "id": "8db27e5b",
   "metadata": {
    "id": "8db27e5b"
   },
   "outputs": [
    {
     "name": "stderr",
     "output_type": "stream",
     "text": [
      "C:\\ProgramData\\Anaconda3\\lib\\site-packages\\sklearn\\cluster\\_kmeans.py:1036: UserWarning: KMeans is known to have a memory leak on Windows with MKL, when there are less chunks than available threads. You can avoid it by setting the environment variable OMP_NUM_THREADS=1.\n",
      "  warnings.warn(\n"
     ]
    }
   ],
   "source": [
    "from sklearn.cluster import KMeans\n",
    "List =[]\n",
    "for k in range(1, 11):\n",
    "    kmeans = KMeans(n_clusters=k, **kmeans_set)\n",
    "    kmeans.fit(scaled_features)\n",
    "    List.append(kmeans.inertia_)"
   ]
  },
  {
   "cell_type": "code",
   "execution_count": null,
   "id": "9ff68574",
   "metadata": {
    "id": "9ff68574"
   },
   "outputs": [],
   "source": []
  },
  {
   "cell_type": "code",
   "execution_count": 10,
   "id": "45ce98c3",
   "metadata": {
    "colab": {
     "base_uri": "https://localhost:8080/",
     "height": 304
    },
    "id": "45ce98c3",
    "outputId": "03d37233-97bc-4518-d69b-e5232f0864f1"
   },
   "outputs": [
    {
     "data": {
      "image/png": "[encoded data removed]",
      "text/plain": [
       "<Figure size 432x288 with 1 Axes>"
      ]
     },
     "metadata": {},
     "output_type": "display_data"
    }
   ],
   "source": [
    "plt.style.use('fivethirtyeight')\n",
    "plt.plot(range(1, 11),List)\n",
    "plt.xticks(range(1, 11))\n",
    "plt.xlabel('Number of Clusters')\n",
    "plt.ylabel('Inertia')\n",
    "plt.show()"
   ]
  },
  {
   "cell_type": "markdown",
   "id": "da6832d7",
   "metadata": {
    "id": "da6832d7"
   },
   "source": [
    "# The elbow method"
   ]
  },
  {
   "cell_type": "code",
   "execution_count": 11,
   "id": "f2300c01",
   "metadata": {
    "colab": {
     "base_uri": "https://localhost:8080/"
    },
    "id": "f2300c01",
    "outputId": "a4abdfa7-ac8c-425c-f29f-a8e896874c57"
   },
   "outputs": [
    {
     "name": "stdout",
     "output_type": "stream",
     "text": [
      "Defaulting to user installation because normal site-packages is not writeable\n",
      "Collecting kneed\n",
      "  Downloading kneed-0.8.1-py2.py3-none-any.whl (10 kB)\n",
      "Requirement already satisfied: numpy>=1.14.2 in c:\\users\\mehran\\appdata\\roaming\\python\\python39\\site-packages (from kneed) (1.21.6)\n",
      "Requirement already satisfied: scipy>=1.0.0 in c:\\programdata\\anaconda3\\lib\\site-packages (from kneed) (1.7.3)\n",
      "Installing collected packages: kneed\n",
      "Successfully installed kneed-0.8.1\n"
     ]
    }
   ],
   "source": [
    "!pip install kneed "
   ]
  },
  {
   "cell_type": "code",
   "execution_count": 12,
   "id": "c403c52c",
   "metadata": {
    "colab": {
     "base_uri": "https://localhost:8080/"
    },
    "id": "c403c52c",
    "outputId": "d2ccc5b6-7b84-4082-e5ea-7920db43020d"
   },
   "outputs": [
    {
     "data": {
      "text/plain": [
       "3"
      ]
     },
     "execution_count": 12,
     "metadata": {},
     "output_type": "execute_result"
    }
   ],
   "source": [
    "from kneed import KneeLocator\n",
    "k1 = KneeLocator(range(1, 11), List, curve='convex', direction='decreasing')\n",
    "k1.elbow\n"
   ]
  },
  {
   "cell_type": "code",
   "execution_count": 13,
   "id": "cff8768d",
   "metadata": {
    "colab": {
     "base_uri": "https://localhost:8080/",
     "height": 304
    },
    "id": "cff8768d",
    "outputId": "e01f9d90-be74-41df-8f3f-0e0282910cb1"
   },
   "outputs": [
    {
     "data": {
      "image/png": "[encoded data removed]",
      "text/plain": [
       "<Figure size 432x288 with 1 Axes>"
      ]
     },
     "metadata": {},
     "output_type": "display_data"
    }
   ],
   "source": [
    "plt.style.use('fivethirtyeight')\n",
    "plt.plot(range(1, 11),List)\n",
    "plt.xticks(range(1, 11))\n",
    "plt.xlabel('Number ofClusters')\n",
    "plt.ylabel('List')\n",
    "plt.axvline(x=k1.elbow, color = 'b', label ='axvline - full height', ls='--')\n",
    "plt.show()"
   ]
  },
  {
   "cell_type": "code",
   "execution_count": 14,
   "id": "2f20f1ad",
   "metadata": {
    "colab": {
     "base_uri": "https://localhost:8080/",
     "height": 336
    },
    "id": "2f20f1ad",
    "outputId": "ef88b489-538d-4355-e7d6-3358f53eab54"
   },
   "outputs": [
    {
     "name": "stdout",
     "output_type": "stream",
     "text": [
      "[[43.2 16.7]\n",
      " [29.6 66.8]\n",
      " [55.1 46.1]]\n"
     ]
    },
    {
     "data": {
      "image/png": "[encoded data removed]",
      "text/plain": [
       "<Figure size 432x288 with 1 Axes>"
      ]
     },
     "metadata": {},
     "output_type": "display_data"
    }
   ],
   "source": [
    "from sklearn.cluster import KMeans \n",
    "kmeans= KMeans(n_clusters=3).fit(df)\n",
    "centroids = kmeans.cluster_centers_\n",
    "print(centroids)\n",
    "\n",
    "plt.scatter(df['x'], df['y'], c= kmeans.labels_.astype(float), s=50, alpha=0.5)\n",
    "plt.scatter(centroids[:, 0], centroids[:,1], c='red',s=50)\n",
    "plt.show()"
   ]
  },
  {
   "cell_type": "code",
   "execution_count": 15,
   "id": "hUT4vzMcUGFc",
   "metadata": {
    "colab": {
     "base_uri": "https://localhost:8080/"
    },
    "id": "hUT4vzMcUGFc",
    "outputId": "c1fb3386-ab3d-4034-b183-b2fd587ef019"
   },
   "outputs": [
    {
     "data": {
      "text/plain": [
       "array([[43.2, 16.7],\n",
       "       [29.6, 66.8],\n",
       "       [55.1, 46.1]])"
      ]
     },
     "execution_count": 15,
     "metadata": {},
     "output_type": "execute_result"
    }
   ],
   "source": [
    "kmeans.cluster_centers_"
   ]
  },
  {
   "cell_type": "code",
   "execution_count": 16,
   "id": "07f2c810",
   "metadata": {
    "id": "07f2c810"
   },
   "outputs": [],
   "source": [
    "from sklearn.metrics import silhouette_score\n",
    "silhouette_coefficients = []\n",
    "for k in range(2, 11):\n",
    "    kmeans = KMeans(n_clusters=k, **kmeans_set)\n",
    "    kmeans.fit(scaled_features)\n",
    "    score = silhouette_score(scaled_features, kmeans.labels_)\n",
    "    silhouette_coefficients.append(score)  "
   ]
  },
  {
   "cell_type": "code",
   "execution_count": 17,
   "id": "g2uODq5yUwZM",
   "metadata": {
    "colab": {
     "base_uri": "https://localhost:8080/",
     "height": 304
    },
    "id": "g2uODq5yUwZM",
    "outputId": "a232c544-3b56-4b57-bac6-6e8e98c6da5e"
   },
   "outputs": [
    {
     "data": {
      "image/png": "[encoded data removed]",
      "text/plain": [
       "<Figure size 432x288 with 1 Axes>"
      ]
     },
     "metadata": {},
     "output_type": "display_data"
    }
   ],
   "source": [
    "plt.style.use('fivethirtyeight')\n",
    "plt.plot(range(2, 11), silhouette_coefficients)\n",
    "plt.xticks(range(2, 11))\n",
    "plt.xlabel('Number of Clusters')\n",
    "plt.ylabel('silhouette_score')\n",
    "plt.show()"
   ]
  },
  {
   "cell_type": "code",
   "execution_count": 18,
   "id": "6b2bb5d2",
   "metadata": {
    "colab": {
     "base_uri": "https://localhost:8080/",
     "height": 384
    },
    "id": "6b2bb5d2",
    "outputId": "0e912b50-c4fb-4f63-91dd-94b85ca0cd24"
   },
   "outputs": [],
   "source": [
    "import tkinter as tk \n",
    "from matplotlib.backends.backend_tkagg import FigureCanvasTkAgg\n",
    "\n",
    "kmeans = KMeans(n_clusters=3).fit(df)\n",
    "centroids = kmeans.cluster_centers_\n",
    "\n",
    "root = tk.Tk()\n",
    "\n",
    "canvas1 = tk.Canvas(root, width = 100, height= 100)\n",
    "canvas1.pack()\n",
    "\n",
    "label1 = tk.Label(root, text= centroids, justify = 'center')\n",
    "canvas1.create_window(70,50, window=label1)\n",
    "\n",
    "figure1 = plt.Figure(figsize=(5,8), dpi = 100)\n",
    "ax1 = figure1.add_subplot(111) \n",
    "ax1.scatter(df['x'], df['y'], c= kmeans.labels_.astype(float), s=50, alpha=0.5)\n",
    "ax1.scatter(centroids[:, 0],centroids[:, 1], c='red', s=50)\n",
    "scatter1 = FigureCanvasTkAgg(figure1, root)\n",
    "scatter1.get_tk_widget().pack(side=tk.LEFT, fill=tk.BOTH)\n",
    "\n",
    "root.mainloop()\n",
    "\n",
    "\n"
   ]
  },
  {
   "cell_type": "code",
   "execution_count": 19,
   "id": "f69757c3",
   "metadata": {
    "colab": {
     "base_uri": "https://localhost:8080/",
     "height": 384
    },
    "id": "f69757c3",
    "outputId": "2de6e839-b4c1-4d85-f316-e563b0e70a56"
   },
   "outputs": [
    {
     "name": "stderr",
     "output_type": "stream",
     "text": [
      "Exception in Tkinter callback\n",
      "Traceback (most recent call last):\n",
      "  File \"C:\\ProgramData\\Anaconda3\\lib\\tkinter\\__init__.py\", line 1892, in __call__\n",
      "    return self.func(*args)\n",
      "  File \"C:\\Users\\mehran\\AppData\\Local\\Temp\\ipykernel_3216\\1881868090.py\", line 34, in getKMeans\n",
      "    centroids = kmeans.cluster_centeres_\n",
      "AttributeError: 'KMeans' object has no attribute 'cluster_centeres_'\n"
     ]
    }
   ],
   "source": [
    "\n",
    "import tkinter as tk \n",
    "from tkinter import filedialog\n",
    "import pandas as pd\n",
    "from pandas import DataFrame \n",
    "import matplotlib.pyplot as plt\n",
    "from sklearn.cluster import KMeans\n",
    "from matplotlib.backends.backend_tkagg import FigureCanvasTkAgg\n",
    "\n",
    "root = tk.Tk()\n",
    "\n",
    "canvas1 = tk.Canvas(root, width = 400, height= 300, relief = 'raised')\n",
    "canvas1.pack()\n",
    "\n",
    "label1 = tk.Label(root, text='k-Means Clustering')\n",
    "label1.config(font=('helvetica',14))\n",
    "canvas1.create_window(200, 25, window=label1)\n",
    "\n",
    "label2 = tk.Label(root, text='Type Number of Clusters:')\n",
    "label2.config(font=('helvetica',8))\n",
    "canvas1.create_window(200,120,window=label2)\n",
    "\n",
    "\n",
    "entry1 = tk.Entry (root)\n",
    "canvas1.create_window(200, 140 ,window=entry1)\n",
    "\n",
    "\n",
    "\n",
    "def getKMeans():\n",
    "    global df\n",
    "    global numberOfClusters \n",
    "    numberOfClusters = int(entry1.get())\n",
    "    \n",
    "    kmeans = KMeans(n_clusters=numberOfClusters).fit(df)\n",
    "    centroids = kmeans.cluster_centeres_\n",
    "    \n",
    "    label3 = tk.Label(root, text= centroids)\n",
    "    canvas1.create_window(200,250,window=label3)\n",
    "    \n",
    "    figure1 = plt.Figure(figsize=(4,3),dpi=100)\n",
    "    ax1 = figure1.add_subplot(111)\n",
    "    ax1.scatter(df['x'], df['y'], c= kmeans.label_.astype(float), s=50, alpha=0.5)\n",
    "    ax1.scatter(centroids[:, 0],centroids[:, 1],c='red',s= 50)\n",
    "    scatter1 = FigureCanvasTkAgg(figure1, root)\n",
    "    scatter1.get_tk_widget().pack(side=tk.RIGHT, fill= tk.BOTH)\n",
    " \n",
    "processButton =tk.Button(text='process k-Means',command=getKMeans, bg='brown',fg='white', font=('helvetica', 10, 'bold'))\n",
    "canvas1.create_window(200,170,window=processButton)\n",
    "\n",
    "root.mainloop()\n"
   ]
  },
  {
   "cell_type": "code",
   "execution_count": null,
   "id": "NnBx21leYE1K",
   "metadata": {
    "id": "NnBx21leYE1K"
   },
   "outputs": [],
   "source": []
  }
 ],
 "metadata": {
  "colab": {
   "provenance": []
  },
  "kernelspec": {
   "display_name": "Python 3 (ipykernel)",
   "language": "python",
   "name": "python3"
  },
  "language_info": {
   "codemirror_mode": {
    "name": "ipython",
    "version": 3
   },
   "file_extension": ".py",
   "mimetype": "text/x-python",
   "name": "python",
   "nbconvert_exporter": "python",
   "pygments_lexer": "ipython3",
   "version": "3.9.12"
  }
 },
 "nbformat": 4,
 "nbformat_minor": 5
}
